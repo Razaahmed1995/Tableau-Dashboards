{
 "cells": [
  {
   "cell_type": "code",
   "execution_count": 1,
   "id": "0c2b143b",
   "metadata": {},
   "outputs": [
    {
     "data": {
      "text/html": [
       "\n",
       "        <iframe\n",
       "            width=\"1600\"\n",
       "            height=\"1000\"\n",
       "            src=\"https://public.tableau.com/views/NetflixAnalysis_16640603760110/Dashboard1?:embed=true:display_count=yes&:showVizHome=no\"\n",
       "            frameborder=\"0\"\n",
       "            allowfullscreen\n",
       "        ></iframe>\n",
       "        "
      ],
      "text/plain": [
       "<IPython.lib.display.IFrame at 0x2b9686981c0>"
      ]
     },
     "execution_count": 1,
     "metadata": {},
     "output_type": "execute_result"
    }
   ],
   "source": [
    "# Import module\n",
    "from IPython.display import IFrame\n",
    "\n",
    "# Import Tableau Visualization \n",
    "IFrame('https://public.tableau.com/views/NetflixAnalysis_16640603760110/Dashboard1?:embed=true:display_count=yes&:showVizHome=no', width=1600, height=1000)"
   ]
  }
 ],
 "metadata": {
  "kernelspec": {
   "display_name": "Python 3",
   "language": "python",
   "name": "python3"
  },
  "language_info": {
   "codemirror_mode": {
    "name": "ipython",
    "version": 3
   },
   "file_extension": ".py",
   "mimetype": "text/x-python",
   "name": "python",
   "nbconvert_exporter": "python",
   "pygments_lexer": "ipython3",
   "version": "3.8.8"
  }
 },
 "nbformat": 4,
 "nbformat_minor": 5
}
